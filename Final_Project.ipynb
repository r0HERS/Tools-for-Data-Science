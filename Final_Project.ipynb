{
  "metadata": {
    "kernelspec": {
      "name": "python",
      "display_name": "Python (Pyodide)",
      "language": "python"
    },
    "language_info": {
      "codemirror_mode": {
        "name": "python",
        "version": 3
      },
      "file_extension": ".py",
      "mimetype": "text/x-python",
      "name": "python",
      "nbconvert_exporter": "python",
      "pygments_lexer": "ipython3",
      "version": "3.8"
    }
  },
  "nbformat_minor": 4,
  "nbformat": 4,
  "cells": [
    {
      "cell_type": "markdown",
      "source": "# My Data Science Final Project",
      "metadata": {}
    },
    {
      "cell_type": "markdown",
      "source": "## Introduction  \nThis notebook was created as part of the final project for the Data Science Tools course. It demonstrates the use of JupyterLite Notebook to create and share data science projects.",
      "metadata": {}
    },
    {
      "cell_type": "markdown",
      "source": "## Data Science Languages  \n- Python  \n- R  \n- SQL  \n- Julia  \n- Java",
      "metadata": {}
    },
    {
      "cell_type": "markdown",
      "source": "## Data Science Libraries  \n- Pandas  \n- NumPy  \n- Matplotlib  \n- Scikit-learn  \n- TensorFlow  \n- PyTorch  \n- Keras",
      "metadata": {}
    },
    {
      "cell_type": "markdown",
      "source": "## Data Science Tools  \n\n| Tool              | Purpose                   | Example Use           |  \n|--------------------|---------------------------|-----------------------|  \n| Jupyter Notebook   | Interactive coding       | Python scripting      |  \n| RStudio           | Data analysis with R      | Statistical modeling  |  \n| Apache Spark      | Big data processing       | Distributed computing |  \n",
      "metadata": {}
    },
    {
      "cell_type": "markdown",
      "source": "## Arithmetic Expression Examples  \nBelow are examples of simple arithmetic operations like addition, multiplication, and conversion.\n",
      "metadata": {}
    },
    {
      "cell_type": "code",
      "source": "result = (3 * 4) + 5\nresult",
      "metadata": {
        "trusted": true
      },
      "outputs": [
        {
          "execution_count": 1,
          "output_type": "execute_result",
          "data": {
            "text/plain": "17"
          },
          "metadata": {}
        }
      ],
      "execution_count": 1
    },
    {
      "cell_type": "code",
      "source": "minutes = 200\nhours = minutes / 60\nhours",
      "metadata": {
        "trusted": true
      },
      "outputs": [
        {
          "execution_count": 4,
          "output_type": "execute_result",
          "data": {
            "text/plain": "3.3333333333333335"
          },
          "metadata": {}
        }
      ],
      "execution_count": 4
    },
    {
      "cell_type": "markdown",
      "source": "## Objectives  \n- Learn and practice Markdown formatting  \n- Demonstrate arithmetic operations in Python  \n- Create and share a JupyterLite notebook via GitHub ",
      "metadata": {
        "jp-MarkdownHeadingCollapsed": true
      }
    },
    {
      "cell_type": "markdown",
      "source": "## Author  \n- Renan Rohers Salvador.",
      "metadata": {}
    }
  ]
}